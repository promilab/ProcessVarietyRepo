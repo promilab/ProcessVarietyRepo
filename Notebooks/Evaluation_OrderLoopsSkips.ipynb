{
 "cells": [
  {
   "cell_type": "code",
   "execution_count": 1,
   "id": "49bea178",
   "metadata": {},
   "outputs": [],
   "source": [
    "import pandas as pd\n",
    "from datetime import datetime\n",
    "import pm4py\n",
    "import numpy as np\n",
    "from collections import defaultdict\n",
    "from Levenshtein import distance\n",
    "\n",
    "from sklearn.cluster import AgglomerativeClustering\n",
    "from matplotlib import pyplot as plt\n",
    "from scipy.cluster.hierarchy import dendrogram\n",
    "from sklearn import metrics\n",
    "\n",
    "import copy\n",
    "import matplotlib as mlp\n",
    "import matplotlib.pyplot as plt"
   ]
  },
  {
   "cell_type": "code",
   "execution_count": 2,
   "id": "ec7c5499",
   "metadata": {},
   "outputs": [
    {
     "name": "stderr",
     "output_type": "stream",
     "text": [
      "C:\\Users\\la1949\\Anaconda3\\envs\\pm4py\\lib\\site-packages\\tqdm\\auto.py:22: TqdmWarning: IProgress not found. Please update jupyter and ipywidgets. See https://ipywidgets.readthedocs.io/en/stable/user_install.html\n",
      "  from .autonotebook import tqdm as notebook_tqdm\n",
      "parsing log, completed traces :: 100%|██████████| 6/6 [00:00<00:00, 2933.76it/s]\n",
      "parsing log, completed traces :: 100%|██████████| 6/6 [00:00<?, ?it/s]\n",
      "parsing log, completed traces :: 100%|██████████| 6/6 [00:00<?, ?it/s]\n",
      "parsing log, completed traces :: 100%|██████████| 12/12 [00:00<00:00, 1705.64it/s]\n",
      "parsing log, completed traces :: 100%|██████████| 12/12 [00:00<00:00, 11893.11it/s]\n",
      "parsing log, completed traces :: 100%|██████████| 12/12 [00:00<?, ?it/s]\n",
      "parsing log, completed traces :: 100%|██████████| 18/18 [00:00<00:00, 17524.95it/s]\n"
     ]
    }
   ],
   "source": [
    "Order = pm4py.read.read_xes(\"1_Order.xes\")\n",
    "Loops = pm4py.read.read_xes(\"2_Loops.xes\") \n",
    "Skips = pm4py.read.read_xes(\"3_Skips.xes\")\n",
    "Order_Loops = pm4py.read.read_xes(\"4_Order_Loops.xes\")\n",
    "Loops_Skips = pm4py.read.read_xes(\"5_Loops_Skips.xes\")\n",
    "Skips_Order = pm4py.read.read_xes(\"6_Skips_Order.xes\")\n",
    "Order_Loops_Skips = pm4py.read.read_xes(\"7_Order_Loops_Skips.xes\")\n"
   ]
  },
  {
   "cell_type": "code",
   "execution_count": 3,
   "id": "cb3d9684",
   "metadata": {},
   "outputs": [],
   "source": [
    "Order_log = Order.groupby(['case:concept:name'])['concept:name'].apply(list).reset_index()\n",
    "Loops_log = Loops.groupby(['case:concept:name'])['concept:name'].apply(list).reset_index()\n",
    "Skips_log = Skips.groupby(['case:concept:name'])['concept:name'].apply(list).reset_index()\n",
    "Order_Loops_log = Order_Loops.groupby(['case:concept:name'])['concept:name'].apply(list).reset_index()\n",
    "Loops_Skips_log = Loops_Skips.groupby(['case:concept:name'])['concept:name'].apply(list).reset_index()\n",
    "Skips_Order_log = Skips_Order.groupby(['case:concept:name'])['concept:name'].apply(list).reset_index()\n",
    "Order_Loops_Skips_log = Order_Loops_Skips.groupby(['case:concept:name'])['concept:name'].apply(list).reset_index()"
   ]
  },
  {
   "cell_type": "code",
   "execution_count": 4,
   "id": "674ec7a7",
   "metadata": {},
   "outputs": [],
   "source": [
    "logs = [Order_log, Loops_log, Skips_log, Order_Loops_log, Loops_Skips_log, Skips_Order_log, Order_Loops_Skips_log]"
   ]
  },
  {
   "cell_type": "code",
   "execution_count": 5,
   "id": "a1331cea",
   "metadata": {},
   "outputs": [
    {
     "name": "stdout",
     "output_type": "stream",
     "text": [
      "  case:concept:name     concept:name\n",
      "0                 1  [A, B, C, D, E]\n",
      "1                 2  [A, B, D, C, E]\n",
      "2                 3  [A, C, B, D, E]\n",
      "3                 4  [A, D, B, C, E]\n",
      "4                 5  [A, C, D, B, E]\n",
      "5                 6  [A, D, C, B, E]\n",
      "  case:concept:name              concept:name\n",
      "0                 1        [A, B, B, C, D, E]\n",
      "1                 2        [A, B, C, C, D, E]\n",
      "2                 3        [A, B, C, D, D, E]\n",
      "3                 4     [A, B, C, B, C, D, E]\n",
      "4                 5     [A, B, C, D, C, D, E]\n",
      "5                 6  [A, B, C, D, B, C, D, E]\n",
      "  case:concept:name  concept:name\n",
      "0                 1  [A, C, D, E]\n",
      "1                 2  [A, B, D, E]\n",
      "2                 3  [A, B, C, E]\n",
      "3                 4     [A, D, E]\n",
      "4                 5     [A, B, E]\n",
      "5                 6        [A, E]\n",
      "   case:concept:name              concept:name\n",
      "0                  1           [A, B, C, D, E]\n",
      "1                 10     [A, B, C, B, C, D, E]\n",
      "2                 11     [A, B, C, D, C, D, E]\n",
      "3                 12  [A, B, C, D, B, C, D, E]\n",
      "4                  2           [A, B, D, C, E]\n",
      "5                  3           [A, C, B, D, E]\n",
      "6                  4           [A, D, B, C, E]\n",
      "7                  5           [A, C, D, B, E]\n",
      "8                  6           [A, D, C, B, E]\n",
      "9                  7        [A, B, B, C, D, E]\n",
      "10                 8        [A, B, C, C, D, E]\n",
      "11                 9        [A, B, C, D, D, E]\n",
      "   case:concept:name              concept:name\n",
      "0                  1        [A, B, B, C, D, E]\n",
      "1                 10                 [A, D, E]\n",
      "2                 11                 [A, B, E]\n",
      "3                 12                    [A, E]\n",
      "4                  2        [A, B, C, C, D, E]\n",
      "5                  3        [A, B, C, D, D, E]\n",
      "6                  4     [A, B, C, B, C, D, E]\n",
      "7                  5     [A, B, C, D, C, D, E]\n",
      "8                  6  [A, B, C, D, B, C, D, E]\n",
      "9                  7              [A, C, D, E]\n",
      "10                 8              [A, B, D, E]\n",
      "11                 9              [A, B, C, E]\n",
      "   case:concept:name     concept:name\n",
      "0                  1     [A, C, D, E]\n",
      "1                 10  [A, D, B, C, E]\n",
      "2                 11  [A, C, D, B, E]\n",
      "3                 12  [A, D, C, B, E]\n",
      "4                  2     [A, B, D, E]\n",
      "5                  3     [A, B, C, E]\n",
      "6                  4        [A, D, E]\n",
      "7                  5        [A, B, E]\n",
      "8                  6           [A, E]\n",
      "9                  7  [A, B, C, D, E]\n",
      "10                 8  [A, B, D, C, E]\n",
      "11                 9  [A, C, B, D, E]\n",
      "   case:concept:name              concept:name\n",
      "0                  1           [A, B, C, D, E]\n",
      "1                 10     [A, B, C, B, C, D, E]\n",
      "2                 11     [A, B, C, D, C, D, E]\n",
      "3                 12  [A, B, C, D, B, C, D, E]\n",
      "4                 13              [A, C, D, E]\n",
      "5                 14              [A, B, D, E]\n",
      "6                 15              [A, B, C, E]\n",
      "7                 16                 [A, D, E]\n",
      "8                 17                 [A, B, E]\n",
      "9                 18                    [A, E]\n",
      "10                 2           [A, B, D, C, E]\n",
      "11                 3           [A, C, B, D, E]\n",
      "12                 4           [A, D, B, C, E]\n",
      "13                 5           [A, C, D, B, E]\n",
      "14                 6           [A, D, C, B, E]\n",
      "15                 7        [A, B, B, C, D, E]\n",
      "16                 8        [A, B, C, C, D, E]\n",
      "17                 9        [A, B, C, D, D, E]\n"
     ]
    }
   ],
   "source": [
    "for i in logs:\n",
    "    print(i)"
   ]
  },
  {
   "cell_type": "code",
   "execution_count": 7,
   "id": "d5113481",
   "metadata": {},
   "outputs": [],
   "source": [
    "#Change to string format\n",
    "for i in logs:\n",
    "    i[\"strings\"] = i[\"concept:name\"].apply(lambda x: ''.join(x))"
   ]
  },
  {
   "cell_type": "code",
   "execution_count": 8,
   "id": "cce0ece7",
   "metadata": {},
   "outputs": [],
   "source": [
    "#Calculate distance matrix based on Levenshtein Distance\n",
    "from Levenshtein import distance\n",
    "\n",
    "def Lev(logVar):\n",
    "    \n",
    "    List = logVar[\"strings\"]\n",
    "\n",
    "    n = len(List)\n",
    "    dist_matrix = np.zeros((n,n))    # initialize distance matrix to a square of zeros\n",
    "\n",
    "    for i in range(n):\n",
    "        if i % 200 == 0:\n",
    "            print(i)\n",
    "        for j in range(i, n):\n",
    "            dist_matrix[i,j] = distance(List[i], List[j])\n",
    "            dist_matrix[j,i] = dist_matrix[i,j]       # for the symmetric part, no computation\n",
    "\n",
    "    return dist_matrix"
   ]
  },
  {
   "cell_type": "code",
   "execution_count": 10,
   "id": "1922951a",
   "metadata": {},
   "outputs": [
    {
     "data": {
      "text/plain": [
       "[array([[0., 2., 2., 2., 2., 2.],\n",
       "        [2., 0., 2., 2., 2., 2.],\n",
       "        [2., 2., 0., 2., 2., 2.],\n",
       "        [2., 2., 2., 0., 2., 2.],\n",
       "        [2., 2., 2., 2., 0., 2.],\n",
       "        [2., 2., 2., 2., 2., 0.]]),\n",
       " array([[0., 1., 2., 1., 2., 2.],\n",
       "        [1., 0., 1., 1., 1., 2.],\n",
       "        [2., 1., 0., 2., 1., 2.],\n",
       "        [1., 1., 2., 0., 1., 1.],\n",
       "        [2., 1., 1., 1., 0., 1.],\n",
       "        [2., 2., 2., 1., 1., 0.]]),\n",
       " array([[0., 1., 2., 1., 2., 2.],\n",
       "        [1., 0., 1., 1., 1., 2.],\n",
       "        [2., 1., 0., 2., 1., 2.],\n",
       "        [1., 1., 2., 0., 1., 1.],\n",
       "        [2., 1., 1., 1., 0., 1.],\n",
       "        [2., 2., 2., 1., 1., 0.]]),\n",
       " array([[0., 2., 2., 3., 2., 2., 2., 2., 2., 1., 1., 1.],\n",
       "        [2., 0., 1., 1., 3., 2., 3., 4., 3., 1., 1., 2.],\n",
       "        [2., 1., 0., 1., 2., 3., 4., 3., 3., 2., 1., 1.],\n",
       "        [3., 1., 1., 0., 3., 3., 3., 3., 4., 2., 2., 2.],\n",
       "        [2., 3., 2., 3., 0., 2., 2., 2., 2., 2., 2., 2.],\n",
       "        [2., 2., 3., 3., 2., 0., 2., 2., 2., 2., 2., 2.],\n",
       "        [2., 3., 4., 3., 2., 2., 0., 2., 2., 2., 3., 3.],\n",
       "        [2., 4., 3., 3., 2., 2., 2., 0., 2., 3., 3., 2.],\n",
       "        [2., 3., 3., 4., 2., 2., 2., 2., 0., 3., 3., 3.],\n",
       "        [1., 1., 2., 2., 2., 2., 2., 3., 3., 0., 1., 2.],\n",
       "        [1., 1., 1., 2., 2., 2., 3., 3., 3., 1., 0., 1.],\n",
       "        [1., 2., 1., 2., 2., 2., 3., 2., 3., 2., 1., 0.]]),\n",
       " array([[0., 3., 3., 4., 1., 2., 1., 2., 2., 2., 2., 2.],\n",
       "        [3., 0., 1., 1., 3., 3., 4., 4., 5., 1., 1., 2.],\n",
       "        [3., 1., 0., 1., 3., 3., 4., 4., 5., 2., 1., 1.],\n",
       "        [4., 1., 1., 0., 4., 4., 5., 5., 6., 2., 2., 2.],\n",
       "        [1., 3., 3., 4., 0., 1., 1., 1., 2., 2., 2., 2.],\n",
       "        [2., 3., 3., 4., 1., 0., 2., 1., 2., 2., 2., 2.],\n",
       "        [1., 4., 4., 5., 1., 2., 0., 1., 1., 3., 3., 3.],\n",
       "        [2., 4., 4., 5., 1., 1., 1., 0., 1., 3., 3., 3.],\n",
       "        [2., 5., 5., 6., 2., 2., 1., 1., 0., 4., 4., 4.],\n",
       "        [2., 1., 2., 2., 2., 2., 3., 3., 4., 0., 1., 2.],\n",
       "        [2., 1., 1., 2., 2., 2., 3., 3., 4., 1., 0., 1.],\n",
       "        [2., 2., 1., 2., 2., 2., 3., 3., 4., 2., 1., 0.]]),\n",
       " array([[0., 3., 1., 2., 1., 2., 1., 2., 2., 1., 2., 1.],\n",
       "        [3., 0., 2., 2., 2., 1., 2., 2., 3., 2., 2., 2.],\n",
       "        [1., 2., 0., 2., 2., 3., 2., 2., 3., 2., 2., 2.],\n",
       "        [2., 2., 2., 0., 3., 2., 2., 2., 3., 2., 2., 2.],\n",
       "        [1., 2., 2., 3., 0., 1., 1., 1., 2., 1., 1., 1.],\n",
       "        [2., 1., 3., 2., 1., 0., 2., 1., 2., 1., 1., 2.],\n",
       "        [1., 2., 2., 2., 1., 2., 0., 1., 1., 2., 2., 2.],\n",
       "        [2., 2., 2., 2., 1., 1., 1., 0., 1., 2., 2., 2.],\n",
       "        [2., 3., 3., 3., 2., 2., 1., 1., 0., 3., 3., 3.],\n",
       "        [1., 2., 2., 2., 1., 1., 2., 2., 3., 0., 2., 2.],\n",
       "        [2., 2., 2., 2., 1., 1., 2., 2., 3., 2., 0., 2.],\n",
       "        [1., 2., 2., 2., 1., 2., 2., 2., 3., 2., 2., 0.]]),\n",
       " array([[0., 2., 2., 3., 1., 1., 1., 2., 2., 3., 2., 2., 2., 2., 2., 1.,\n",
       "         1., 1.],\n",
       "        [2., 0., 1., 1., 3., 3., 3., 4., 4., 5., 3., 2., 3., 4., 3., 1.,\n",
       "         1., 2.],\n",
       "        [2., 1., 0., 1., 3., 3., 3., 4., 4., 5., 2., 3., 4., 3., 3., 2.,\n",
       "         1., 1.],\n",
       "        [3., 1., 1., 0., 4., 4., 4., 5., 5., 6., 3., 3., 3., 3., 4., 2.,\n",
       "         2., 2.],\n",
       "        [1., 3., 3., 4., 0., 1., 2., 1., 2., 2., 2., 1., 3., 1., 2., 2.,\n",
       "         2., 2.],\n",
       "        [1., 3., 3., 4., 1., 0., 1., 1., 1., 2., 1., 1., 2., 2., 3., 2.,\n",
       "         2., 2.],\n",
       "        [1., 3., 3., 4., 2., 1., 0., 2., 1., 2., 1., 2., 1., 3., 2., 2.,\n",
       "         2., 2.],\n",
       "        [2., 4., 4., 5., 1., 1., 2., 0., 1., 1., 2., 2., 2., 2., 2., 3.,\n",
       "         3., 3.],\n",
       "        [2., 4., 4., 5., 2., 1., 1., 1., 0., 1., 2., 2., 2., 2., 2., 3.,\n",
       "         3., 3.],\n",
       "        [3., 5., 5., 6., 2., 2., 2., 1., 1., 0., 3., 3., 3., 3., 3., 4.,\n",
       "         4., 4.],\n",
       "        [2., 3., 2., 3., 2., 1., 1., 2., 2., 3., 0., 2., 2., 2., 2., 2.,\n",
       "         2., 2.],\n",
       "        [2., 2., 3., 3., 1., 1., 2., 2., 2., 3., 2., 0., 2., 2., 2., 2.,\n",
       "         2., 2.],\n",
       "        [2., 3., 4., 3., 3., 2., 1., 2., 2., 3., 2., 2., 0., 2., 2., 2.,\n",
       "         3., 3.],\n",
       "        [2., 4., 3., 3., 1., 2., 3., 2., 2., 3., 2., 2., 2., 0., 2., 3.,\n",
       "         3., 2.],\n",
       "        [2., 3., 3., 4., 2., 3., 2., 2., 2., 3., 2., 2., 2., 2., 0., 3.,\n",
       "         3., 3.],\n",
       "        [1., 1., 2., 2., 2., 2., 2., 3., 3., 4., 2., 2., 2., 3., 3., 0.,\n",
       "         1., 2.],\n",
       "        [1., 1., 1., 2., 2., 2., 2., 3., 3., 4., 2., 2., 3., 3., 3., 1.,\n",
       "         0., 1.],\n",
       "        [1., 2., 1., 2., 2., 2., 2., 3., 3., 4., 2., 2., 3., 2., 3., 2.,\n",
       "         1., 0.]])]"
      ]
     },
     "execution_count": 10,
     "metadata": {},
     "output_type": "execute_result"
    }
   ],
   "source": [
    "logs_dis"
   ]
  },
  {
   "cell_type": "code",
   "execution_count": 11,
   "id": "74902afb",
   "metadata": {},
   "outputs": [
    {
     "name": "stdout",
     "output_type": "stream",
     "text": [
      "0: 1.6666666666666667\n",
      "1: 1.1666666666666667\n",
      "2: 1.1666666666666667\n",
      "3: 2.0\n",
      "4: 2.25\n",
      "5: 1.7083333333333333\n",
      "6: 2.2037037037037037\n"
     ]
    }
   ],
   "source": [
    "#Average Levenshtein distance\n",
    "for i in range(len(logs_dis)):\n",
    "    variety = np.average(logs_dis[i])\n",
    "    print(str(i)+':', variety)"
   ]
  },
  {
   "cell_type": "markdown",
   "id": "6bd0399e",
   "metadata": {},
   "source": [
    "# Variety"
   ]
  },
  {
   "cell_type": "code",
   "execution_count": 29,
   "id": "26ac7055",
   "metadata": {},
   "outputs": [],
   "source": [
    "#Calculate linkage Matrix\n",
    "from scipy.cluster.hierarchy import linkage\n",
    "\n",
    "#Distances after clustering\n",
    "from scipy.cluster.hierarchy import cophenet\n",
    "from scipy.spatial.distance import squareform\n",
    "\n",
    "#For Evaluation\n",
    "from scipy.integrate import simpson\n",
    "from numpy import trapz\n",
    "import scipy.stats\n",
    "from scipy.cluster.hierarchy import fcluster"
   ]
  },
  {
   "cell_type": "code",
   "execution_count": 14,
   "id": "5a1a42cc",
   "metadata": {},
   "outputs": [
    {
     "name": "stderr",
     "output_type": "stream",
     "text": [
      "C:\\Users\\la1949\\AppData\\Local\\Temp\\ipykernel_14312\\2171260998.py:5: ClusterWarning: scipy.cluster: The symmetric non-negative hollow observation matrix looks suspiciously like an uncondensed distance matrix\n",
      "  logs_link[i] = linkage(logs_dis[i], \"complete\")\n"
     ]
    }
   ],
   "source": [
    "#Change to string format\n",
    "logs_link = ['Order_log_link', 'Loops_log_link', 'Skips_log_link', 'Order_Loops_log_link', 'Loops_Skips_log_link', 'Skips_Order_log_link', 'Order_Loops_Skips_log_link']\n",
    "\n",
    "for i in range(len(logs_dis)):\n",
    "    logs_link[i] = linkage(logs_dis[i], \"complete\")"
   ]
  },
  {
   "cell_type": "code",
   "execution_count": 15,
   "id": "931abba0",
   "metadata": {},
   "outputs": [
    {
     "name": "stdout",
     "output_type": "stream",
     "text": [
      "0: 14.142135623730951\n",
      "1: 12.32455532033676\n",
      "2: 12.32455532033676\n",
      "3: 40.39662939700286\n",
      "4: 44.96012507103764\n",
      "5: 38.862337679328526\n",
      "6: 77.4527608869356\n"
     ]
    }
   ],
   "source": [
    "#logs = [Order_log, Loops_log, Skips_log, Order_Loops_log, Loops_Skips_log, Skips_Order_log, Order_Loops_Skips_log]\n",
    "\n",
    "for i in range(len(logs_link)):\n",
    "    variety = mst(logs_link[i])\n",
    "    print(str(i)+':', variety)"
   ]
  },
  {
   "cell_type": "markdown",
   "id": "227d99ef",
   "metadata": {},
   "source": [
    "## Create diagram for Order_Loops_Skips_log"
   ]
  },
  {
   "cell_type": "code",
   "execution_count": 24,
   "id": "7a1b256e",
   "metadata": {},
   "outputs": [
    {
     "data": {
      "text/plain": [
       "array([[ 7.        ,  8.        ,  2.        ,  2.        ],\n",
       "       [15.        , 16.        ,  2.23606798,  2.        ],\n",
       "       [17.        , 19.        ,  2.23606798,  3.        ],\n",
       "       [ 5.        ,  6.        ,  2.82842712,  2.        ],\n",
       "       [ 4.        , 21.        ,  2.82842712,  3.        ],\n",
       "       [ 1.        ,  2.        ,  2.82842712,  2.        ],\n",
       "       [10.        , 22.        ,  3.        ,  4.        ],\n",
       "       [11.        , 24.        ,  3.        ,  5.        ],\n",
       "       [ 0.        , 25.        ,  3.60555128,  6.        ],\n",
       "       [12.        , 26.        ,  3.60555128,  7.        ],\n",
       "       [13.        , 27.        ,  3.60555128,  8.        ],\n",
       "       [20.        , 28.        ,  3.60555128, 11.        ],\n",
       "       [23.        , 29.        ,  3.60555128, 13.        ],\n",
       "       [ 3.        , 30.        ,  3.74165739, 14.        ],\n",
       "       [18.        , 31.        ,  3.74165739, 16.        ],\n",
       "       [14.        , 32.        ,  3.74165739, 17.        ],\n",
       "       [ 9.        , 33.        ,  4.        , 18.        ]])"
      ]
     },
     "execution_count": 24,
     "metadata": {},
     "output_type": "execute_result"
    }
   ],
   "source": [
    "linkage_matrix"
   ]
  },
  {
   "cell_type": "code",
   "execution_count": 25,
   "id": "1ed3116c",
   "metadata": {},
   "outputs": [
    {
     "data": {
      "text/plain": [
       "54.21014586687992"
      ]
     },
     "execution_count": 25,
     "metadata": {},
     "output_type": "execute_result"
    }
   ],
   "source": [
    "#Calculate MST --> Variety\n",
    "\n",
    "def mst(linkage_matrix):\n",
    "    x = 0\n",
    "    for i in linkage_matrix:\n",
    "        x += i[2]\n",
    "    return x\n",
    "\n",
    "variety = mst(linkage_matrix)\n",
    "variety"
   ]
  },
  {
   "cell_type": "code",
   "execution_count": 26,
   "id": "9a31da87",
   "metadata": {
    "collapsed": true
   },
   "outputs": [
    {
     "data": {
      "text/plain": [
       "array([[0.        , 3.60555128, 3.60555128, 3.74165739, 3.60555128,\n",
       "        3.60555128, 3.60555128, 3.74165739, 3.74165739, 4.        ,\n",
       "        3.60555128, 3.60555128, 3.60555128, 3.60555128, 3.74165739,\n",
       "        3.60555128, 3.60555128, 3.60555128],\n",
       "       [3.60555128, 0.        , 2.82842712, 3.74165739, 3.60555128,\n",
       "        3.60555128, 3.60555128, 3.74165739, 3.74165739, 4.        ,\n",
       "        3.60555128, 3.60555128, 3.60555128, 3.60555128, 3.74165739,\n",
       "        3.60555128, 3.60555128, 3.60555128],\n",
       "       [3.60555128, 2.82842712, 0.        , 3.74165739, 3.60555128,\n",
       "        3.60555128, 3.60555128, 3.74165739, 3.74165739, 4.        ,\n",
       "        3.60555128, 3.60555128, 3.60555128, 3.60555128, 3.74165739,\n",
       "        3.60555128, 3.60555128, 3.60555128],\n",
       "       [3.74165739, 3.74165739, 3.74165739, 0.        , 3.74165739,\n",
       "        3.74165739, 3.74165739, 3.74165739, 3.74165739, 4.        ,\n",
       "        3.74165739, 3.74165739, 3.74165739, 3.74165739, 3.74165739,\n",
       "        3.74165739, 3.74165739, 3.74165739],\n",
       "       [3.60555128, 3.60555128, 3.60555128, 3.74165739, 0.        ,\n",
       "        2.82842712, 2.82842712, 3.74165739, 3.74165739, 4.        ,\n",
       "        3.        , 3.        , 3.60555128, 3.60555128, 3.74165739,\n",
       "        3.60555128, 3.60555128, 3.60555128],\n",
       "       [3.60555128, 3.60555128, 3.60555128, 3.74165739, 2.82842712,\n",
       "        0.        , 2.82842712, 3.74165739, 3.74165739, 4.        ,\n",
       "        3.        , 3.        , 3.60555128, 3.60555128, 3.74165739,\n",
       "        3.60555128, 3.60555128, 3.60555128],\n",
       "       [3.60555128, 3.60555128, 3.60555128, 3.74165739, 2.82842712,\n",
       "        2.82842712, 0.        , 3.74165739, 3.74165739, 4.        ,\n",
       "        3.        , 3.        , 3.60555128, 3.60555128, 3.74165739,\n",
       "        3.60555128, 3.60555128, 3.60555128],\n",
       "       [3.74165739, 3.74165739, 3.74165739, 3.74165739, 3.74165739,\n",
       "        3.74165739, 3.74165739, 0.        , 2.        , 4.        ,\n",
       "        3.74165739, 3.74165739, 3.74165739, 3.74165739, 3.74165739,\n",
       "        3.74165739, 3.74165739, 3.74165739],\n",
       "       [3.74165739, 3.74165739, 3.74165739, 3.74165739, 3.74165739,\n",
       "        3.74165739, 3.74165739, 2.        , 0.        , 4.        ,\n",
       "        3.74165739, 3.74165739, 3.74165739, 3.74165739, 3.74165739,\n",
       "        3.74165739, 3.74165739, 3.74165739],\n",
       "       [4.        , 4.        , 4.        , 4.        , 4.        ,\n",
       "        4.        , 4.        , 4.        , 4.        , 0.        ,\n",
       "        4.        , 4.        , 4.        , 4.        , 4.        ,\n",
       "        4.        , 4.        , 4.        ],\n",
       "       [3.60555128, 3.60555128, 3.60555128, 3.74165739, 3.        ,\n",
       "        3.        , 3.        , 3.74165739, 3.74165739, 4.        ,\n",
       "        0.        , 3.        , 3.60555128, 3.60555128, 3.74165739,\n",
       "        3.60555128, 3.60555128, 3.60555128],\n",
       "       [3.60555128, 3.60555128, 3.60555128, 3.74165739, 3.        ,\n",
       "        3.        , 3.        , 3.74165739, 3.74165739, 4.        ,\n",
       "        3.        , 0.        , 3.60555128, 3.60555128, 3.74165739,\n",
       "        3.60555128, 3.60555128, 3.60555128],\n",
       "       [3.60555128, 3.60555128, 3.60555128, 3.74165739, 3.60555128,\n",
       "        3.60555128, 3.60555128, 3.74165739, 3.74165739, 4.        ,\n",
       "        3.60555128, 3.60555128, 0.        , 3.60555128, 3.74165739,\n",
       "        3.60555128, 3.60555128, 3.60555128],\n",
       "       [3.60555128, 3.60555128, 3.60555128, 3.74165739, 3.60555128,\n",
       "        3.60555128, 3.60555128, 3.74165739, 3.74165739, 4.        ,\n",
       "        3.60555128, 3.60555128, 3.60555128, 0.        , 3.74165739,\n",
       "        3.60555128, 3.60555128, 3.60555128],\n",
       "       [3.74165739, 3.74165739, 3.74165739, 3.74165739, 3.74165739,\n",
       "        3.74165739, 3.74165739, 3.74165739, 3.74165739, 4.        ,\n",
       "        3.74165739, 3.74165739, 3.74165739, 3.74165739, 0.        ,\n",
       "        3.74165739, 3.74165739, 3.74165739],\n",
       "       [3.60555128, 3.60555128, 3.60555128, 3.74165739, 3.60555128,\n",
       "        3.60555128, 3.60555128, 3.74165739, 3.74165739, 4.        ,\n",
       "        3.60555128, 3.60555128, 3.60555128, 3.60555128, 3.74165739,\n",
       "        0.        , 2.23606798, 2.23606798],\n",
       "       [3.60555128, 3.60555128, 3.60555128, 3.74165739, 3.60555128,\n",
       "        3.60555128, 3.60555128, 3.74165739, 3.74165739, 4.        ,\n",
       "        3.60555128, 3.60555128, 3.60555128, 3.60555128, 3.74165739,\n",
       "        2.23606798, 0.        , 2.23606798],\n",
       "       [3.60555128, 3.60555128, 3.60555128, 3.74165739, 3.60555128,\n",
       "        3.60555128, 3.60555128, 3.74165739, 3.74165739, 4.        ,\n",
       "        3.60555128, 3.60555128, 3.60555128, 3.60555128, 3.74165739,\n",
       "        2.23606798, 2.23606798, 0.        ]])"
      ]
     },
     "execution_count": 26,
     "metadata": {},
     "output_type": "execute_result"
    }
   ],
   "source": [
    "#Derive Ordering of Traces --> Marginal Variety\n",
    "\n",
    "#Derive distance matrix after clustering (based on clusters)\n",
    "cophenet_matrix = squareform(cophenet(linkage_matrix))\n",
    "cophenet_matrix"
   ]
  },
  {
   "cell_type": "code",
   "execution_count": 27,
   "id": "78cda49f",
   "metadata": {},
   "outputs": [
    {
     "data": {
      "text/plain": [
       "[2.0,\n",
       " 2.23606797749979,\n",
       " 2.23606797749979,\n",
       " 2.8284271247461903,\n",
       " 2.8284271247461903,\n",
       " 2.8284271247461903,\n",
       " 3.0,\n",
       " 3.0,\n",
       " 3.605551275463989,\n",
       " 3.605551275463989,\n",
       " 3.605551275463989,\n",
       " 3.605551275463989,\n",
       " 3.605551275463989,\n",
       " 3.7416573867739413,\n",
       " 3.7416573867739413,\n",
       " 3.7416573867739413,\n",
       " 4.0]"
      ]
     },
     "execution_count": 27,
     "metadata": {},
     "output_type": "execute_result"
    }
   ],
   "source": [
    "#Derive ordering of traces based on their marginal distance\n",
    "\n",
    "def marginal_variety(pairwise_distances):\n",
    "    # Create a copy of the pairwise distance matrix\n",
    "    modified_distances = pairwise_distances.astype(float)\n",
    "    traceOrder = []\n",
    "    margVariety = []\n",
    "    \n",
    "    \n",
    "    # Set diagonal elements to NaN\n",
    "    np.fill_diagonal(modified_distances, np.nan)\n",
    "    \n",
    "    # Iterate to remove the desired number of minimum values\n",
    "    for i in range(len(pairwise_distances)-1):\n",
    "        # Find the minimum value and its indices\n",
    "        min_val = np.nanmin(modified_distances)  # Use np.nanmin to ignore NaN values\n",
    "        min_indices = np.argwhere(modified_distances == min_val)\n",
    "        \n",
    "        # Get the row and column indices to replace by NaN\n",
    "        row_idx, col_idx = min_indices[0][0], min_indices[0][0]\n",
    "        \n",
    "        #Get order of traces + their marginal contribution to variety\n",
    "        traceOrder.append(row_idx)\n",
    "        margVariety.append(min_val)\n",
    "        \n",
    "        \n",
    "        # Change values in the row and column corresponding to the minimum value to NaN\n",
    "        modified_distances[row_idx, :] = np.nan\n",
    "        modified_distances[:, col_idx] = np.nan\n",
    "        \n",
    "    #return modified_distances\n",
    "    return traceOrder, margVariety #modified_distances\n",
    "\n",
    "\n",
    "\n",
    "order, margVar = marginal_variety(cophenet_matrix)\n",
    "margVar"
   ]
  },
  {
   "cell_type": "code",
   "execution_count": 28,
   "id": "f87d71ce",
   "metadata": {},
   "outputs": [
    {
     "data": {
      "text/plain": [
       "[7, 15, 16, 1, 4, 5, 6, 10, 0, 2, 11, 12, 13, 3, 8, 14, 9]"
      ]
     },
     "execution_count": 28,
     "metadata": {},
     "output_type": "execute_result"
    }
   ],
   "source": [
    "order"
   ]
  },
  {
   "cell_type": "code",
   "execution_count": 38,
   "id": "449b95a9",
   "metadata": {},
   "outputs": [
    {
     "data": {
      "text/plain": [
       "[1.0,\n",
       " 2.0,\n",
       " 3.0,\n",
       " 4.0,\n",
       " 5.0,\n",
       " 6.0,\n",
       " 7.0,\n",
       " 9.0,\n",
       " 11.0,\n",
       " 12.0,\n",
       " 14.0,\n",
       " 16.0,\n",
       " 19.0,\n",
       " 22.0,\n",
       " 25.0,\n",
       " 29.0,\n",
       " 37.0]"
      ]
     },
     "execution_count": 38,
     "metadata": {},
     "output_type": "execute_result"
    }
   ],
   "source": [
    "#Create ordered list of Alignment costs\n",
    "\n",
    "def marginal_alignments(pairwise_distances, order):\n",
    "    # Create a copy of the pairwise distance matrix\n",
    "    modified_distances = pairwise_distances.astype(float)\n",
    "    modified_distances = abs(modified_distances)\n",
    "    #traceOrder = []\n",
    "    margAlignments = []\n",
    "    \n",
    "    removed = []\n",
    "    \n",
    "    \n",
    "    # Set diagonal elements to NaN\n",
    "    np.fill_diagonal(modified_distances, np.nan)\n",
    "    \n",
    "    # Iterate over ordered list of trace variants to be removed\n",
    "    for i in order:\n",
    "        #Add i to list of removed TraceVar\n",
    "        removed.append(i)\n",
    "        alignmentCost = 0\n",
    "        \n",
    "        #Change values in the column corresponding to i to NaN\n",
    "        modified_distances[:, i] = np.nan\n",
    "        \n",
    "        #Iterate over list of removed trace variants to derive alignment costs\n",
    "        for i in removed:\n",
    "            \n",
    "            # Find the minimum value and its indices\n",
    "            min_val = np.nanmin(modified_distances[i])  # Use np.nanmin to ignore NaN values\n",
    "            \n",
    "            #Add value to alignment cost\n",
    "            alignmentCost += min_val\n",
    " \n",
    "        #Add alignment cost to list\n",
    "        margAlignments.append(alignmentCost)\n",
    "        \n",
    "        \n",
    "    #return modified_distances\n",
    "    return margAlignments #modified_distances\n",
    "\n",
    "\n",
    "\n",
    "margAlignCosts = marginal_alignments(Matrix, order)\n",
    "margAlignCosts"
   ]
  },
  {
   "cell_type": "code",
   "execution_count": 35,
   "id": "2f934b3b",
   "metadata": {},
   "outputs": [],
   "source": [
    "#Calculate increase in alignment costs\n",
    "def alignIncrease(margAlignCosts):\n",
    "    inAlign = [0]\n",
    "    newAlign = 0\n",
    "    for i in margAlignCosts:\n",
    "        newAlign += i\n",
    "        inAlign.append(newAlign)\n",
    "    return inAlign\n",
    "\n",
    "#alignCostIncrease = alignIncrease(margAlignCosts)"
   ]
  },
  {
   "cell_type": "code",
   "execution_count": 36,
   "id": "4460fe07",
   "metadata": {},
   "outputs": [],
   "source": [
    "#Calculate decrease in variety\n",
    "def varDecrease(var, margVar):\n",
    "    deVar = [var]\n",
    "    newVar = var\n",
    "    for i in margVar:\n",
    "        newVar -= i\n",
    "        deVar.append(newVar)\n",
    "    return deVar\n",
    "\n",
    "#varietyDecrease = varDecrease(logVariety, margVar)"
   ]
  },
  {
   "cell_type": "code",
   "execution_count": 39,
   "id": "517072c3",
   "metadata": {},
   "outputs": [
    {
     "data": {
      "image/png": "[encoded data removed]",
      "text/plain": [
       "<Figure size 640x480 with 1 Axes>"
      ]
     },
     "metadata": {},
     "output_type": "display_data"
    }
   ],
   "source": [
    "# Label für die y-Achse vergeben:\n",
    "plt.ylabel('Structural Log Variety')\n",
    "plt.xlabel('Number of Trace Variants')\n",
    "\n",
    "\n",
    "x = list(range(0, len(cophenet_matrix)))\n",
    "y = varDecrease(variety, margVar)\n",
    "y = y / max(y) #normalization\n",
    "\n",
    "y2 = alignIncrease(margAlignCosts)\n",
    "y2 = y2 / max(y2) #normalization\n",
    "\n",
    "# Einen x-y-Plot erstellen:\n",
    "plt.plot(x, y)\n",
    "plt.plot(x, y2)\n",
    "\n",
    "# plot scatter plot with x and y data \n",
    "plt.scatter(x, y)\n",
    "plt.scatter(x, y2)\n",
    "\n",
    "# Achsen-Bereiche manuell festlegen\n",
    "# Syntax: plt.axis([xmin, xmax, ymin, ymax])\n",
    "#plt.axis([0, 5, 0, 20])\n",
    "\n",
    "# Ein gepunktetes Diagramm-Gitter einblenden:\n",
    "plt.grid(True)\n",
    "\n",
    "# Diagramm anzeigen:\n",
    "plt.show()"
   ]
  },
  {
   "cell_type": "markdown",
   "id": "bfa69a19",
   "metadata": {},
   "source": [
    "## Baseline - based on random selection"
   ]
  },
  {
   "cell_type": "code",
   "execution_count": 40,
   "id": "c2e82c2f",
   "metadata": {
    "collapsed": true
   },
   "outputs": [
    {
     "name": "stderr",
     "output_type": "stream",
     "text": [
      "C:\\Users\\la1949\\AppData\\Local\\Temp\\ipykernel_14312\\2385287758.py:38: RuntimeWarning: All-NaN slice encountered\n",
      "  if math.isnan(np.nanmin(i)):\n"
     ]
    },
    {
     "data": {
      "text/plain": [
       "([11, 2, 3, 1, 0, 7, 12, 5, 15, 6, 10, 14, 16, 9, 8, 4, 13],\n",
       " [1.0,\n",
       "  1.0,\n",
       "  1.0,\n",
       "  1.0,\n",
       "  1.0,\n",
       "  1.0,\n",
       "  1.0,\n",
       "  1.0,\n",
       "  1.0,\n",
       "  1.0,\n",
       "  2.0,\n",
       "  2.0,\n",
       "  1.0,\n",
       "  1.0,\n",
       "  2.0,\n",
       "  1.0,\n",
       "  2.0],\n",
       " [19.0,\n",
       "  18.0,\n",
       "  17.0,\n",
       "  16.0,\n",
       "  15.0,\n",
       "  14.0,\n",
       "  13.0,\n",
       "  12.0,\n",
       "  11.0,\n",
       "  10.0,\n",
       "  10.0,\n",
       "  8.0,\n",
       "  6.0,\n",
       "  6.0,\n",
       "  6.0,\n",
       "  4.0,\n",
       "  4.0])"
      ]
     },
     "execution_count": 40,
     "metadata": {},
     "output_type": "execute_result"
    }
   ],
   "source": [
    "#Derive ordering of traces based on random selection\n",
    "import math\n",
    "\n",
    "def marginal_variety_baseline(pairwise_distances):\n",
    "    # Create a copy of the pairwise distance matrix\n",
    "    modified_distances = pairwise_distances.astype(float)\n",
    "    traceOrder = []\n",
    "    margVariety = []\n",
    "    totalVariety = []\n",
    "    numbVar = len(pairwise_distances)\n",
    "    remaining = list(range(0,numbVar))\n",
    "    \n",
    "    \n",
    "    \n",
    "    # Set diagonal elements to NaN\n",
    "    np.fill_diagonal(modified_distances, np.nan)\n",
    "    \n",
    "    # Iterate to remove the desired number of minimum values\n",
    "    for i in range(numbVar-1):\n",
    "        #print(modified_distances)\n",
    "        \n",
    "        #Select random variant to be removed\n",
    "        indices = np.random.choice(remaining)\n",
    "        remaining.remove(indices)\n",
    "        min_val = np.nanmin(modified_distances[indices])\n",
    "        #print(indices, min_val, remaining)\n",
    "        \n",
    "        # Get the row and column indices to replace by NaN\n",
    "        row_idx, col_idx = indices, indices\n",
    "        \n",
    "        #Get order of traces + their marginal contribution to variety\n",
    "        traceOrder.append(row_idx)        \n",
    "        margVariety.append(min_val)\n",
    "        \n",
    "        #Calculate variety based on distances of remaining traces \n",
    "        variety = 0\n",
    "        for i in modified_distances:\n",
    "            if math.isnan(np.nanmin(i)):\n",
    "                continue\n",
    "            variety += np.nanmin(i)\n",
    "        totalVariety.append(variety)\n",
    "        \n",
    "        # Change values in the row and column corresponding to the minimum value to NaN\n",
    "        modified_distances[row_idx, :] = np.nan\n",
    "        modified_distances[:, col_idx] = np.nan\n",
    "        \n",
    "        \n",
    "    #return modified_distances\n",
    "    return traceOrder, margVariety, totalVariety #modified_distances\n",
    "\n",
    "\n",
    "marginal_variety_baseline(Matrix)"
   ]
  },
  {
   "cell_type": "code",
   "execution_count": 42,
   "id": "0896d24d",
   "metadata": {},
   "outputs": [
    {
     "name": "stdout",
     "output_type": "stream",
     "text": [
      "[1.0, 2.0, 3.0, 4.0, 5.0, 6.0, 7.0, 9.0, 11.0, 12.0, 14.0, 16.0, 17.0, 18.0, 23.0, 28.0, 41.0]\n",
      "[19.0, 18.0, 17.0, 16.0, 15.0, 14.0, 13.0, 12.0, 12.0, 13.0, 12.0, 10.0, 8.0, 8.0, 8.0, 6.0, 4.0, 0]\n"
     ]
    },
    {
     "name": "stderr",
     "output_type": "stream",
     "text": [
      "C:\\Users\\la1949\\AppData\\Local\\Temp\\ipykernel_14312\\2385287758.py:38: RuntimeWarning: All-NaN slice encountered\n",
      "  if math.isnan(np.nanmin(i)):\n"
     ]
    }
   ],
   "source": [
    "#Change in Variety\n",
    "order, margVar, totalVar = marginal_variety_baseline(Matrix)\n",
    "margAlignCosts = marginal_alignments(Matrix, order)\n",
    "print(margAlignCosts)\n",
    "\n",
    "totalVar.append(0)\n",
    "print(totalVar)"
   ]
  },
  {
   "cell_type": "code",
   "execution_count": 43,
   "id": "cbfb0d36",
   "metadata": {},
   "outputs": [
    {
     "data": {
      "image/png": "[encoded data removed]",
      "text/plain": [
       "<Figure size 640x480 with 1 Axes>"
      ]
     },
     "metadata": {},
     "output_type": "display_data"
    }
   ],
   "source": [
    "# Label für die y-Achse vergeben:\n",
    "plt.ylabel('Structural Log Variety')\n",
    "plt.xlabel('Number of Trace Variants')\n",
    "\n",
    "\n",
    "x = list(range(0, len(cophenet_matrix)))\n",
    "y = totalVar\n",
    "y = y / max(y) #normalization\n",
    "\n",
    "y2 = alignIncrease(margAlignCosts)\n",
    "y2 = y2 / max(y2) #normalization\n",
    "\n",
    "# Einen x-y-Plot erstellen:\n",
    "plt.plot(x, y)\n",
    "plt.plot(x, y2)\n",
    "\n",
    "# plot scatter plot with x and y data \n",
    "plt.scatter(x, y)\n",
    "plt.scatter(x, y2)\n",
    "\n",
    "# Achsen-Bereiche manuell festlegen\n",
    "# Syntax: plt.axis([xmin, xmax, ymin, ymax])\n",
    "#plt.axis([0, 5, 0, 20])\n",
    "\n",
    "# Ein gepunktetes Diagramm-Gitter einblenden:\n",
    "plt.grid(True)\n",
    "\n",
    "# Diagramm anzeigen:\n",
    "plt.show()"
   ]
  },
  {
   "cell_type": "code",
   "execution_count": 47,
   "id": "67f7a14f",
   "metadata": {},
   "outputs": [
    {
     "data": {
      "text/plain": [
       "[19.0,\n",
       " 18.0,\n",
       " 17.0,\n",
       " 16.0,\n",
       " 15.0,\n",
       " 14.0,\n",
       " 13.0,\n",
       " 12.0,\n",
       " 12.0,\n",
       " 13.0,\n",
       " 12.0,\n",
       " 10.0,\n",
       " 8.0,\n",
       " 8.0,\n",
       " 8.0,\n",
       " 6.0,\n",
       " 4.0,\n",
       " 0]"
      ]
     },
     "execution_count": 47,
     "metadata": {},
     "output_type": "execute_result"
    }
   ],
   "source": [
    "totalVar"
   ]
  }
 ],
 "metadata": {
  "kernelspec": {
   "display_name": "Python 3 (ipykernel)",
   "language": "python",
   "name": "python3"
  },
  "language_info": {
   "codemirror_mode": {
    "name": "ipython",
    "version": 3
   },
   "file_extension": ".py",
   "mimetype": "text/x-python",
   "name": "python",
   "nbconvert_exporter": "python",
   "pygments_lexer": "ipython3",
   "version": "3.9.16"
  }
 },
 "nbformat": 4,
 "nbformat_minor": 5
}
